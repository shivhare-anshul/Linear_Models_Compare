{
 "cells": [
  {
   "cell_type": "code",
   "execution_count": 18,
   "metadata": {},
   "outputs": [],
   "source": [
    "import numpy as np\n",
    "from sklearn.utils import shuffle\n",
    "from sklearn.linear_model import LogisticRegression\n",
    "from sklearn.metrics import confusion_matrix\n",
    "import matplotlib.pyplot as plt"
   ]
  },
  {
   "cell_type": "code",
   "execution_count": 19,
   "metadata": {},
   "outputs": [],
   "source": [
    "data=np.loadtxt('german.data-numeric')\n",
    "data =shuffle(data)"
   ]
  },
  {
   "cell_type": "code",
   "execution_count": 20,
   "metadata": {},
   "outputs": [],
   "source": [
    "n=int(0.7*len(data))"
   ]
  },
  {
   "cell_type": "code",
   "execution_count": 21,
   "metadata": {},
   "outputs": [],
   "source": [
    "data =shuffle(data)\n",
    "X_train=data[:n,:-1]\n",
    "X_test=data[n:,:-1]\n",
    "X_train=np.append(X_train,np.ones((len(X_train),1)),axis=1)\n",
    "X_test=np.append(X_test,np.ones((len(X_test),1)),axis=1)\n",
    "y_train=np.ones((len(X_train),1))\n",
    "for i in range(len(X_train)):\n",
    "    if data[i,-1]==2:\n",
    "        y_train[i]=-1\n",
    "\n",
    "W=np.matmul(np.linalg.inv(np.matmul(X_train.T,X_train)),np.matmul(X_train.T,y_train))\n",
    "W=W.reshape(-1,1)\n",
    "\n",
    "p=np.dot(X_test,W)\n",
    "\n",
    "acc=0\n",
    "for i in range(len(X_test)):\n",
    "    if p[i]>=0:\n",
    "        p[i]=1\n",
    "        if data[i+n,-1]==1:\n",
    "            acc=acc+1\n",
    "    else:\n",
    "        p[i]=2\n",
    "        if data[i+n,-1]==2:\n",
    "            acc=acc+1\n",
    "            \n",
    "a=acc/len(X_test)\n",
    "mat1=confusion_matrix(data[n:,-1],p)\n",
    "y_train=np.ravel(y_train)\n",
    "logreg=LogisticRegression(max_iter=1000)\n",
    "logreg.fit(X_train,y_train)\n",
    "\n",
    "y_pred=logreg.predict(X_test)\n",
    "\n",
    "acc=0\n",
    "for i in range(len(X_test)):\n",
    "    if y_pred[i]==1:\n",
    "        if data[i+n,-1]==1:\n",
    "            acc=acc+1\n",
    "    else:\n",
    "        y_pred[i]=2\n",
    "        if data[i+n,-1]==2:\n",
    "            acc=acc+1\n",
    "b=acc/len(X_test)\n",
    "e.append(b)\n",
    "mat2=confusion_matrix(data[n:,-1],y_pred)"
   ]
  },
  {
   "cell_type": "code",
   "execution_count": 23,
   "metadata": {},
   "outputs": [
    {
     "data": {
      "text/plain": [
       "array([[190,  13],\n",
       "       [ 58,  39]])"
      ]
     },
     "execution_count": 23,
     "metadata": {},
     "output_type": "execute_result"
    }
   ],
   "source": [
    "mat1"
   ]
  },
  {
   "cell_type": "code",
   "execution_count": 24,
   "metadata": {},
   "outputs": [
    {
     "data": {
      "text/plain": [
       "array([[189,  14],\n",
       "       [ 51,  46]])"
      ]
     },
     "execution_count": 24,
     "metadata": {},
     "output_type": "execute_result"
    }
   ],
   "source": [
    "mat2"
   ]
  },
  {
   "cell_type": "code",
   "execution_count": 22,
   "metadata": {},
   "outputs": [
    {
     "ename": "NameError",
     "evalue": "name 'bmh' is not defined",
     "output_type": "error",
     "traceback": [
      "\u001b[0;31m---------------------------------------------------------------------------\u001b[0m",
      "\u001b[0;31mNameError\u001b[0m                                 Traceback (most recent call last)",
      "\u001b[0;32m<ipython-input-22-8320ff5db9bb>\u001b[0m in \u001b[0;36m<module>\u001b[0;34m\u001b[0m\n\u001b[0;32m----> 1\u001b[0;31m \u001b[0mbmh\u001b[0m\u001b[0;34m\u001b[0m\u001b[0;34m\u001b[0m\u001b[0m\n\u001b[0m",
      "\u001b[0;31mNameError\u001b[0m: name 'bmh' is not defined"
     ]
    }
   ],
   "source": []
  },
  {
   "cell_type": "code",
   "execution_count": null,
   "metadata": {},
   "outputs": [],
   "source": []
  }
 ],
 "metadata": {
  "kernelspec": {
   "display_name": "Python 3",
   "language": "python",
   "name": "python3"
  },
  "language_info": {
   "codemirror_mode": {
    "name": "ipython",
    "version": 3
   },
   "file_extension": ".py",
   "mimetype": "text/x-python",
   "name": "python",
   "nbconvert_exporter": "python",
   "pygments_lexer": "ipython3",
   "version": "3.6.9"
  }
 },
 "nbformat": 4,
 "nbformat_minor": 4
}
