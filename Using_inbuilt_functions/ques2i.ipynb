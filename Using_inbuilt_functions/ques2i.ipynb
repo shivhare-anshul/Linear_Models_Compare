{
 "cells": [
  {
   "cell_type": "code",
   "execution_count": 52,
   "metadata": {},
   "outputs": [],
   "source": [
    "import numpy as np\n",
    "from sklearn.utils import shuffle\n",
    "from sklearn.metrics import confusion_matrix"
   ]
  },
  {
   "cell_type": "code",
   "execution_count": 53,
   "metadata": {},
   "outputs": [],
   "source": [
    "data=np.loadtxt('iris_dataset.txt',delimiter=',')"
   ]
  },
  {
   "cell_type": "code",
   "execution_count": 54,
   "metadata": {},
   "outputs": [],
   "source": [
    "data=shuffle(data)"
   ]
  },
  {
   "cell_type": "code",
   "execution_count": 55,
   "metadata": {},
   "outputs": [],
   "source": [
    "n=int(0.7*len(data))\n",
    "X_train=data[:n,:-1]\n",
    "X_test=data[n:,:-1]\n",
    "y_train=data[:n,-1]\n",
    "y_test=data[n:,-1]\n",
    "X_train=np.append(X_train,np.ones((len(X_train),1)),axis=1)\n",
    "X_test=np.append(X_test,np.ones((len(X_test),1)),axis=1)"
   ]
  },
  {
   "cell_type": "code",
   "execution_count": 56,
   "metadata": {},
   "outputs": [],
   "source": [
    "y=np.ones((len(y_train),1))\n",
    "for i in range(len(y_train)):\n",
    "    if y_train[i]!=1:\n",
    "        y[i]=-1"
   ]
  },
  {
   "cell_type": "code",
   "execution_count": 57,
   "metadata": {},
   "outputs": [],
   "source": [
    "W1=np.matmul(np.linalg.inv(np.matmul(X_train.T,X_train)),np.matmul(X_train.T,y))"
   ]
  },
  {
   "cell_type": "code",
   "execution_count": 58,
   "metadata": {},
   "outputs": [],
   "source": [
    "y=np.ones((len(y_train),1))\n",
    "for i in range(len(y_train)):\n",
    "    if y_train[i]!=2:\n",
    "        y[i]=-1"
   ]
  },
  {
   "cell_type": "code",
   "execution_count": 59,
   "metadata": {},
   "outputs": [],
   "source": [
    "W2=np.matmul(np.linalg.inv(np.matmul(X_train.T,X_train)),np.matmul(X_train.T,y))"
   ]
  },
  {
   "cell_type": "code",
   "execution_count": 60,
   "metadata": {},
   "outputs": [],
   "source": [
    "y=np.ones((len(y_train),1))\n",
    "for i in range(len(y_train)):\n",
    "    if y_train[i]!=3:\n",
    "        y[i]=-1"
   ]
  },
  {
   "cell_type": "code",
   "execution_count": 61,
   "metadata": {},
   "outputs": [],
   "source": [
    "W3=np.matmul(np.linalg.inv(np.matmul(X_train.T,X_train)),np.matmul(X_train.T,y))"
   ]
  },
  {
   "cell_type": "code",
   "execution_count": 62,
   "metadata": {},
   "outputs": [],
   "source": [
    "a=np.dot(X_test,W1)\n",
    "b=np.dot(X_test,W2)\n",
    "c=np.dot(X_test,W3)"
   ]
  },
  {
   "cell_type": "code",
   "execution_count": 63,
   "metadata": {},
   "outputs": [],
   "source": [
    "y=np.ones((len(X_test),1))\n",
    "for i in range(len(X_test)):\n",
    "    if b[i]>a[i] and b[i]>c[i]:\n",
    "        y[i]=2\n",
    "    if c[i]>a[i] and c[i]>b[i]:\n",
    "        y[i]=3"
   ]
  },
  {
   "cell_type": "code",
   "execution_count": 64,
   "metadata": {},
   "outputs": [],
   "source": [
    "acc=0\n",
    "for i in range(len(X_test)):\n",
    "    if y[i]==y_test[i]:\n",
    "        acc=acc+1"
   ]
  },
  {
   "cell_type": "code",
   "execution_count": 65,
   "metadata": {},
   "outputs": [
    {
     "data": {
      "text/plain": [
       "0.9333333333333333"
      ]
     },
     "execution_count": 65,
     "metadata": {},
     "output_type": "execute_result"
    }
   ],
   "source": [
    "acc/len(X_test)"
   ]
  },
  {
   "cell_type": "code",
   "execution_count": 66,
   "metadata": {},
   "outputs": [],
   "source": [
    "mat=confusion_matrix(y_test,y)"
   ]
  },
  {
   "cell_type": "code",
   "execution_count": 67,
   "metadata": {},
   "outputs": [
    {
     "data": {
      "text/plain": [
       "array([[15,  0,  0],\n",
       "       [ 0, 13,  3],\n",
       "       [ 0,  0, 14]])"
      ]
     },
     "execution_count": 67,
     "metadata": {},
     "output_type": "execute_result"
    }
   ],
   "source": [
    "mat"
   ]
  },
  {
   "cell_type": "code",
   "execution_count": 68,
   "metadata": {},
   "outputs": [],
   "source": [
    "p=np.append(y_test.reshape(-1,1),a,axis=1)\n",
    "p=np.append(p,b,axis=1)\n",
    "p=np.append(p,c,axis=1)"
   ]
  },
  {
   "cell_type": "code",
   "execution_count": 69,
   "metadata": {},
   "outputs": [
    {
     "data": {
      "text/plain": [
       "array([[ 2.        , -0.56157201, -0.17262282, -0.26580517],\n",
       "       [ 1.        ,  0.65939962, -0.36675622, -1.2926434 ],\n",
       "       [ 1.        ,  0.86124506, -0.61039714, -1.25084792],\n",
       "       [ 3.        , -1.24847697, -0.27995721,  0.52843418],\n",
       "       [ 3.        , -1.01840434, -0.78664609,  0.80505044],\n",
       "       [ 1.        ,  0.62316116, -0.2424997 , -1.38066147],\n",
       "       [ 1.        ,  0.67464875, -0.34529568, -1.32935307],\n",
       "       [ 2.        , -0.6117005 ,  0.19856323, -0.58686273],\n",
       "       [ 3.        , -0.99741501, -0.93236316,  0.92977817],\n",
       "       [ 2.        , -0.79737102,  0.01488706, -0.21751604],\n",
       "       [ 3.        , -1.11409155, -0.40504913,  0.51914069],\n",
       "       [ 2.        , -0.74915594, -0.30057312,  0.04972906],\n",
       "       [ 1.        ,  0.69846931, -0.23491288, -1.46355643],\n",
       "       [ 2.        , -0.74249204,  0.11832176, -0.37582972],\n",
       "       [ 2.        , -0.6771341 , -0.01929389, -0.30357201],\n",
       "       [ 1.        ,  0.98229474, -0.81267547, -1.16961928],\n",
       "       [ 1.        ,  1.3558647 , -1.19329333, -1.16257137],\n",
       "       [ 1.        ,  0.91784877, -0.63748083, -1.28036793],\n",
       "       [ 2.        , -0.81700711,  0.15474743, -0.33774032],\n",
       "       [ 2.        , -0.55070398,  0.28440538, -0.73370141],\n",
       "       [ 3.        , -1.08716749, -0.36890452,  0.45607201],\n",
       "       [ 2.        , -0.72551819,  0.00926391, -0.28374572],\n",
       "       [ 3.        , -1.20654257, -0.59048047,  0.79702304],\n",
       "       [ 3.        , -1.10877882, -1.01514767,  1.12392649],\n",
       "       [ 1.        ,  1.01124523, -1.11293698, -0.89830825],\n",
       "       [ 3.        , -0.90131415, -0.38468258,  0.28599673],\n",
       "       [ 2.        , -0.83323214,  0.28872864, -0.4554965 ],\n",
       "       [ 1.        ,  0.71352977, -0.28824487, -1.4252849 ],\n",
       "       [ 2.        , -0.62354443, -0.10302322, -0.27343234],\n",
       "       [ 3.        , -1.01113018, -0.1242845 ,  0.13541468],\n",
       "       [ 1.        ,  0.64797729, -0.49966849, -1.1483088 ],\n",
       "       [ 2.        , -0.52749955, -0.12292528, -0.34957517],\n",
       "       [ 3.        , -1.39731257,  0.14193341,  0.25537916],\n",
       "       [ 2.        , -0.33113585, -0.04337004, -0.62549411],\n",
       "       [ 1.        ,  1.02000533, -0.94922219, -1.07078314],\n",
       "       [ 2.        , -0.54658134, -0.30718083, -0.14623783],\n",
       "       [ 1.        ,  0.91976217, -0.6932067 , -1.22655547],\n",
       "       [ 2.        , -0.64608154, -0.30048875, -0.05342972],\n",
       "       [ 1.        ,  0.6969274 , -0.30384872, -1.39307868],\n",
       "       [ 1.        ,  0.96797725, -1.00866688, -0.95931037],\n",
       "       [ 3.        , -1.12649564, -0.65676641,  0.78326206],\n",
       "       [ 3.        , -1.17846774, -0.14862847,  0.32709621],\n",
       "       [ 3.        , -1.35731123,  0.09924587,  0.25806537],\n",
       "       [ 3.        , -1.1600159 ,  0.00427023,  0.15574567],\n",
       "       [ 2.        , -1.03323396,  0.39541766, -0.3621837 ]])"
      ]
     },
     "execution_count": 69,
     "metadata": {},
     "output_type": "execute_result"
    }
   ],
   "source": [
    "p"
   ]
  },
  {
   "cell_type": "code",
   "execution_count": null,
   "metadata": {},
   "outputs": [],
   "source": []
  }
 ],
 "metadata": {
  "kernelspec": {
   "display_name": "Python 3",
   "language": "python",
   "name": "python3"
  },
  "language_info": {
   "codemirror_mode": {
    "name": "ipython",
    "version": 3
   },
   "file_extension": ".py",
   "mimetype": "text/x-python",
   "name": "python",
   "nbconvert_exporter": "python",
   "pygments_lexer": "ipython3",
   "version": "3.6.9"
  }
 },
 "nbformat": 4,
 "nbformat_minor": 4
}
